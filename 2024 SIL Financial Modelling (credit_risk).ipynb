{
 "cells": [
  {
   "cell_type": "markdown",
   "metadata": {
    "id": "j4q1QHJPGchi"
   },
   "source": [
    "### Introduction"
   ]
  },
  {
   "cell_type": "markdown",
   "metadata": {
    "id": "6lfpFFt-Ghax"
   },
   "source": [
    "This is a school project for my Student Initiated Learning (SIL), in which I chose to do Financial Modelling 🤦‍♂️\n",
    "\n",
    "The aim of this project is to build a model to assess the credit risk of borrowers.\n",
    "\n",
    "Regression Trees are used for feature selection while both XGBoost and Random Forests are the main ML Algorithms used."
   ]
  },
  {
   "cell_type": "markdown",
   "metadata": {
    "id": "KXTMTWz3ohe0"
   },
   "source": [
    "### Mounting Google Drive"
   ]
  },
  {
   "cell_type": "code",
   "execution_count": null,
   "metadata": {
    "colab": {
     "base_uri": "https://localhost:8080/"
    },
    "id": "M7uoEv0sNuRv",
    "outputId": "d19d98c8-1992-4b80-cce2-b7ff2bff821d"
   },
   "outputs": [
    {
     "name": "stdout",
     "output_type": "stream",
     "text": [
      "Drive already mounted at /content/drive; to attempt to forcibly remount, call drive.mount(\"/content/drive\", force_remount=True).\n"
     ]
    }
   ],
   "source": [
    "from google.colab import drive\n",
    "drive.mount('/content/drive')\n"
   ]
  },
  {
   "cell_type": "markdown",
   "metadata": {
    "id": "2xjom2pfopN4"
   },
   "source": [
    "### Preprocessing (install & load libraries)"
   ]
  },
  {
   "cell_type": "code",
   "execution_count": null,
   "metadata": {
    "collapsed": true,
    "id": "FGCfE93pVblS",
    "jupyter": {
     "outputs_hidden": true
    }
   },
   "outputs": [],
   "source": [
    "# install libraries\n",
    "# !pip install tensorflow\n",
    "# !pip install torch torchvision\n",
    "# !pip install pandas numpy scikit-learn matplotlib"
   ]
  },
  {
   "cell_type": "code",
   "execution_count": null,
   "metadata": {
    "id": "K9POrab9VVre"
   },
   "outputs": [],
   "source": [
    "# load & import libraries\n",
    "import pandas as pd\n",
    "import numpy as np\n",
    "import torch\n",
    "import sklearn as sk\n",
    "import matplotlib.pyplot as plt"
   ]
  },
  {
   "cell_type": "markdown",
   "metadata": {
    "id": "ldDYJtYToxk7"
   },
   "source": [
    "### Getting to know our Data"
   ]
  },
  {
   "cell_type": "code",
   "execution_count": null,
   "metadata": {
    "id": "1AW-VX3aV3Dh"
   },
   "outputs": [],
   "source": [
    "# load dataset\n",
    "data = pd.read_csv(\"/content/drive/MyDrive/Colab Notebooks/credit_risk_dataset.csv\")"
   ]
  },
  {
   "cell_type": "code",
   "execution_count": null,
   "metadata": {
    "colab": {
     "base_uri": "https://localhost:8080/",
     "height": 224
    },
    "id": "gw-0-7YzWzxG",
    "outputId": "2f8d25bc-6de9-448a-ac44-e312feb453fe"
   },
   "outputs": [
    {
     "data": {
      "application/vnd.google.colaboratory.intrinsic+json": {
       "summary": "{\n  \"name\": \"data\",\n  \"rows\": 32581,\n  \"fields\": [\n    {\n      \"column\": \"person_age\",\n      \"properties\": {\n        \"dtype\": \"number\",\n        \"std\": 6,\n        \"min\": 20,\n        \"max\": 144,\n        \"num_unique_values\": 58,\n        \"samples\": [\n          22,\n          26,\n          65\n        ],\n        \"semantic_type\": \"\",\n        \"description\": \"\"\n      }\n    },\n    {\n      \"column\": \"person_income\",\n      \"properties\": {\n        \"dtype\": \"number\",\n        \"std\": 61983,\n        \"min\": 4000,\n        \"max\": 6000000,\n        \"num_unique_values\": 4295,\n        \"samples\": [\n          20800,\n          54417,\n          144000\n        ],\n        \"semantic_type\": \"\",\n        \"description\": \"\"\n      }\n    },\n    {\n      \"column\": \"person_home_ownership\",\n      \"properties\": {\n        \"dtype\": \"category\",\n        \"num_unique_values\": 4,\n        \"samples\": [\n          \"OWN\",\n          \"OTHER\",\n          \"RENT\"\n        ],\n        \"semantic_type\": \"\",\n        \"description\": \"\"\n      }\n    },\n    {\n      \"column\": \"person_emp_length\",\n      \"properties\": {\n        \"dtype\": \"number\",\n        \"std\": 4.1426301488878625,\n        \"min\": 0.0,\n        \"max\": 123.0,\n        \"num_unique_values\": 36,\n        \"samples\": [\n          30.0,\n          18.0,\n          26.0\n        ],\n        \"semantic_type\": \"\",\n        \"description\": \"\"\n      }\n    },\n    {\n      \"column\": \"loan_intent\",\n      \"properties\": {\n        \"dtype\": \"category\",\n        \"num_unique_values\": 6,\n        \"samples\": [\n          \"PERSONAL\",\n          \"EDUCATION\",\n          \"DEBTCONSOLIDATION\"\n        ],\n        \"semantic_type\": \"\",\n        \"description\": \"\"\n      }\n    },\n    {\n      \"column\": \"loan_grade\",\n      \"properties\": {\n        \"dtype\": \"category\",\n        \"num_unique_values\": 7,\n        \"samples\": [\n          \"D\",\n          \"B\",\n          \"F\"\n        ],\n        \"semantic_type\": \"\",\n        \"description\": \"\"\n      }\n    },\n    {\n      \"column\": \"loan_amnt\",\n      \"properties\": {\n        \"dtype\": \"number\",\n        \"std\": 6322,\n        \"min\": 500,\n        \"max\": 35000,\n        \"num_unique_values\": 753,\n        \"samples\": [\n          13125,\n          3675,\n          13800\n        ],\n        \"semantic_type\": \"\",\n        \"description\": \"\"\n      }\n    },\n    {\n      \"column\": \"loan_int_rate\",\n      \"properties\": {\n        \"dtype\": \"number\",\n        \"std\": 3.2404594649559466,\n        \"min\": 5.42,\n        \"max\": 23.22,\n        \"num_unique_values\": 348,\n        \"samples\": [\n          10.28,\n          13.35,\n          18.07\n        ],\n        \"semantic_type\": \"\",\n        \"description\": \"\"\n      }\n    },\n    {\n      \"column\": \"loan_status\",\n      \"properties\": {\n        \"dtype\": \"number\",\n        \"std\": 0,\n        \"min\": 0,\n        \"max\": 1,\n        \"num_unique_values\": 2,\n        \"samples\": [\n          0,\n          1\n        ],\n        \"semantic_type\": \"\",\n        \"description\": \"\"\n      }\n    },\n    {\n      \"column\": \"loan_percent_income\",\n      \"properties\": {\n        \"dtype\": \"number\",\n        \"std\": 0.10678175634492382,\n        \"min\": 0.0,\n        \"max\": 0.83,\n        \"num_unique_values\": 77,\n        \"samples\": [\n          0.55,\n          0.34\n        ],\n        \"semantic_type\": \"\",\n        \"description\": \"\"\n      }\n    },\n    {\n      \"column\": \"cb_person_default_on_file\",\n      \"properties\": {\n        \"dtype\": \"category\",\n        \"num_unique_values\": 2,\n        \"samples\": [\n          \"N\",\n          \"Y\"\n        ],\n        \"semantic_type\": \"\",\n        \"description\": \"\"\n      }\n    },\n    {\n      \"column\": \"cb_person_cred_hist_length\",\n      \"properties\": {\n        \"dtype\": \"number\",\n        \"std\": 4,\n        \"min\": 2,\n        \"max\": 30,\n        \"num_unique_values\": 29,\n        \"samples\": [\n          24,\n          25\n        ],\n        \"semantic_type\": \"\",\n        \"description\": \"\"\n      }\n    }\n  ]\n}",
       "type": "dataframe",
       "variable_name": "data"
      },
      "text/html": [
       "\n",
       "  <div id=\"df-2bb701b6-2993-42d3-bed0-ba795af3856b\" class=\"colab-df-container\">\n",
       "    <div>\n",
       "<style scoped>\n",
       "    .dataframe tbody tr th:only-of-type {\n",
       "        vertical-align: middle;\n",
       "    }\n",
       "\n",
       "    .dataframe tbody tr th {\n",
       "        vertical-align: top;\n",
       "    }\n",
       "\n",
       "    .dataframe thead th {\n",
       "        text-align: right;\n",
       "    }\n",
       "</style>\n",
       "<table border=\"1\" class=\"dataframe\">\n",
       "  <thead>\n",
       "    <tr style=\"text-align: right;\">\n",
       "      <th></th>\n",
       "      <th>person_age</th>\n",
       "      <th>person_income</th>\n",
       "      <th>person_home_ownership</th>\n",
       "      <th>person_emp_length</th>\n",
       "      <th>loan_intent</th>\n",
       "      <th>loan_grade</th>\n",
       "      <th>loan_amnt</th>\n",
       "      <th>loan_int_rate</th>\n",
       "      <th>loan_status</th>\n",
       "      <th>loan_percent_income</th>\n",
       "      <th>cb_person_default_on_file</th>\n",
       "      <th>cb_person_cred_hist_length</th>\n",
       "    </tr>\n",
       "  </thead>\n",
       "  <tbody>\n",
       "    <tr>\n",
       "      <th>0</th>\n",
       "      <td>22</td>\n",
       "      <td>59000</td>\n",
       "      <td>RENT</td>\n",
       "      <td>123.0</td>\n",
       "      <td>PERSONAL</td>\n",
       "      <td>D</td>\n",
       "      <td>35000</td>\n",
       "      <td>16.02</td>\n",
       "      <td>1</td>\n",
       "      <td>0.59</td>\n",
       "      <td>Y</td>\n",
       "      <td>3</td>\n",
       "    </tr>\n",
       "    <tr>\n",
       "      <th>1</th>\n",
       "      <td>21</td>\n",
       "      <td>9600</td>\n",
       "      <td>OWN</td>\n",
       "      <td>5.0</td>\n",
       "      <td>EDUCATION</td>\n",
       "      <td>B</td>\n",
       "      <td>1000</td>\n",
       "      <td>11.14</td>\n",
       "      <td>0</td>\n",
       "      <td>0.10</td>\n",
       "      <td>N</td>\n",
       "      <td>2</td>\n",
       "    </tr>\n",
       "    <tr>\n",
       "      <th>2</th>\n",
       "      <td>25</td>\n",
       "      <td>9600</td>\n",
       "      <td>MORTGAGE</td>\n",
       "      <td>1.0</td>\n",
       "      <td>MEDICAL</td>\n",
       "      <td>C</td>\n",
       "      <td>5500</td>\n",
       "      <td>12.87</td>\n",
       "      <td>1</td>\n",
       "      <td>0.57</td>\n",
       "      <td>N</td>\n",
       "      <td>3</td>\n",
       "    </tr>\n",
       "    <tr>\n",
       "      <th>3</th>\n",
       "      <td>23</td>\n",
       "      <td>65500</td>\n",
       "      <td>RENT</td>\n",
       "      <td>4.0</td>\n",
       "      <td>MEDICAL</td>\n",
       "      <td>C</td>\n",
       "      <td>35000</td>\n",
       "      <td>15.23</td>\n",
       "      <td>1</td>\n",
       "      <td>0.53</td>\n",
       "      <td>N</td>\n",
       "      <td>2</td>\n",
       "    </tr>\n",
       "    <tr>\n",
       "      <th>4</th>\n",
       "      <td>24</td>\n",
       "      <td>54400</td>\n",
       "      <td>RENT</td>\n",
       "      <td>8.0</td>\n",
       "      <td>MEDICAL</td>\n",
       "      <td>C</td>\n",
       "      <td>35000</td>\n",
       "      <td>14.27</td>\n",
       "      <td>1</td>\n",
       "      <td>0.55</td>\n",
       "      <td>Y</td>\n",
       "      <td>4</td>\n",
       "    </tr>\n",
       "  </tbody>\n",
       "</table>\n",
       "</div>\n",
       "    <div class=\"colab-df-buttons\">\n",
       "\n",
       "  <div class=\"colab-df-container\">\n",
       "    <button class=\"colab-df-convert\" onclick=\"convertToInteractive('df-2bb701b6-2993-42d3-bed0-ba795af3856b')\"\n",
       "            title=\"Convert this dataframe to an interactive table.\"\n",
       "            style=\"display:none;\">\n",
       "\n",
       "  <svg xmlns=\"http://www.w3.org/2000/svg\" height=\"24px\" viewBox=\"0 -960 960 960\">\n",
       "    <path d=\"M120-120v-720h720v720H120Zm60-500h600v-160H180v160Zm220 220h160v-160H400v160Zm0 220h160v-160H400v160ZM180-400h160v-160H180v160Zm440 0h160v-160H620v160ZM180-180h160v-160H180v160Zm440 0h160v-160H620v160Z\"/>\n",
       "  </svg>\n",
       "    </button>\n",
       "\n",
       "  <style>\n",
       "    .colab-df-container {\n",
       "      display:flex;\n",
       "      gap: 12px;\n",
       "    }\n",
       "\n",
       "    .colab-df-convert {\n",
       "      background-color: #E8F0FE;\n",
       "      border: none;\n",
       "      border-radius: 50%;\n",
       "      cursor: pointer;\n",
       "      display: none;\n",
       "      fill: #1967D2;\n",
       "      height: 32px;\n",
       "      padding: 0 0 0 0;\n",
       "      width: 32px;\n",
       "    }\n",
       "\n",
       "    .colab-df-convert:hover {\n",
       "      background-color: #E2EBFA;\n",
       "      box-shadow: 0px 1px 2px rgba(60, 64, 67, 0.3), 0px 1px 3px 1px rgba(60, 64, 67, 0.15);\n",
       "      fill: #174EA6;\n",
       "    }\n",
       "\n",
       "    .colab-df-buttons div {\n",
       "      margin-bottom: 4px;\n",
       "    }\n",
       "\n",
       "    [theme=dark] .colab-df-convert {\n",
       "      background-color: #3B4455;\n",
       "      fill: #D2E3FC;\n",
       "    }\n",
       "\n",
       "    [theme=dark] .colab-df-convert:hover {\n",
       "      background-color: #434B5C;\n",
       "      box-shadow: 0px 1px 3px 1px rgba(0, 0, 0, 0.15);\n",
       "      filter: drop-shadow(0px 1px 2px rgba(0, 0, 0, 0.3));\n",
       "      fill: #FFFFFF;\n",
       "    }\n",
       "  </style>\n",
       "\n",
       "    <script>\n",
       "      const buttonEl =\n",
       "        document.querySelector('#df-2bb701b6-2993-42d3-bed0-ba795af3856b button.colab-df-convert');\n",
       "      buttonEl.style.display =\n",
       "        google.colab.kernel.accessAllowed ? 'block' : 'none';\n",
       "\n",
       "      async function convertToInteractive(key) {\n",
       "        const element = document.querySelector('#df-2bb701b6-2993-42d3-bed0-ba795af3856b');\n",
       "        const dataTable =\n",
       "          await google.colab.kernel.invokeFunction('convertToInteractive',\n",
       "                                                    [key], {});\n",
       "        if (!dataTable) return;\n",
       "\n",
       "        const docLinkHtml = 'Like what you see? Visit the ' +\n",
       "          '<a target=\"_blank\" href=https://colab.research.google.com/notebooks/data_table.ipynb>data table notebook</a>'\n",
       "          + ' to learn more about interactive tables.';\n",
       "        element.innerHTML = '';\n",
       "        dataTable['output_type'] = 'display_data';\n",
       "        await google.colab.output.renderOutput(dataTable, element);\n",
       "        const docLink = document.createElement('div');\n",
       "        docLink.innerHTML = docLinkHtml;\n",
       "        element.appendChild(docLink);\n",
       "      }\n",
       "    </script>\n",
       "  </div>\n",
       "\n",
       "\n",
       "<div id=\"df-a468c900-75a2-414e-bf07-4f330f2de834\">\n",
       "  <button class=\"colab-df-quickchart\" onclick=\"quickchart('df-a468c900-75a2-414e-bf07-4f330f2de834')\"\n",
       "            title=\"Suggest charts\"\n",
       "            style=\"display:none;\">\n",
       "\n",
       "<svg xmlns=\"http://www.w3.org/2000/svg\" height=\"24px\"viewBox=\"0 0 24 24\"\n",
       "     width=\"24px\">\n",
       "    <g>\n",
       "        <path d=\"M19 3H5c-1.1 0-2 .9-2 2v14c0 1.1.9 2 2 2h14c1.1 0 2-.9 2-2V5c0-1.1-.9-2-2-2zM9 17H7v-7h2v7zm4 0h-2V7h2v10zm4 0h-2v-4h2v4z\"/>\n",
       "    </g>\n",
       "</svg>\n",
       "  </button>\n",
       "\n",
       "<style>\n",
       "  .colab-df-quickchart {\n",
       "      --bg-color: #E8F0FE;\n",
       "      --fill-color: #1967D2;\n",
       "      --hover-bg-color: #E2EBFA;\n",
       "      --hover-fill-color: #174EA6;\n",
       "      --disabled-fill-color: #AAA;\n",
       "      --disabled-bg-color: #DDD;\n",
       "  }\n",
       "\n",
       "  [theme=dark] .colab-df-quickchart {\n",
       "      --bg-color: #3B4455;\n",
       "      --fill-color: #D2E3FC;\n",
       "      --hover-bg-color: #434B5C;\n",
       "      --hover-fill-color: #FFFFFF;\n",
       "      --disabled-bg-color: #3B4455;\n",
       "      --disabled-fill-color: #666;\n",
       "  }\n",
       "\n",
       "  .colab-df-quickchart {\n",
       "    background-color: var(--bg-color);\n",
       "    border: none;\n",
       "    border-radius: 50%;\n",
       "    cursor: pointer;\n",
       "    display: none;\n",
       "    fill: var(--fill-color);\n",
       "    height: 32px;\n",
       "    padding: 0;\n",
       "    width: 32px;\n",
       "  }\n",
       "\n",
       "  .colab-df-quickchart:hover {\n",
       "    background-color: var(--hover-bg-color);\n",
       "    box-shadow: 0 1px 2px rgba(60, 64, 67, 0.3), 0 1px 3px 1px rgba(60, 64, 67, 0.15);\n",
       "    fill: var(--button-hover-fill-color);\n",
       "  }\n",
       "\n",
       "  .colab-df-quickchart-complete:disabled,\n",
       "  .colab-df-quickchart-complete:disabled:hover {\n",
       "    background-color: var(--disabled-bg-color);\n",
       "    fill: var(--disabled-fill-color);\n",
       "    box-shadow: none;\n",
       "  }\n",
       "\n",
       "  .colab-df-spinner {\n",
       "    border: 2px solid var(--fill-color);\n",
       "    border-color: transparent;\n",
       "    border-bottom-color: var(--fill-color);\n",
       "    animation:\n",
       "      spin 1s steps(1) infinite;\n",
       "  }\n",
       "\n",
       "  @keyframes spin {\n",
       "    0% {\n",
       "      border-color: transparent;\n",
       "      border-bottom-color: var(--fill-color);\n",
       "      border-left-color: var(--fill-color);\n",
       "    }\n",
       "    20% {\n",
       "      border-color: transparent;\n",
       "      border-left-color: var(--fill-color);\n",
       "      border-top-color: var(--fill-color);\n",
       "    }\n",
       "    30% {\n",
       "      border-color: transparent;\n",
       "      border-left-color: var(--fill-color);\n",
       "      border-top-color: var(--fill-color);\n",
       "      border-right-color: var(--fill-color);\n",
       "    }\n",
       "    40% {\n",
       "      border-color: transparent;\n",
       "      border-right-color: var(--fill-color);\n",
       "      border-top-color: var(--fill-color);\n",
       "    }\n",
       "    60% {\n",
       "      border-color: transparent;\n",
       "      border-right-color: var(--fill-color);\n",
       "    }\n",
       "    80% {\n",
       "      border-color: transparent;\n",
       "      border-right-color: var(--fill-color);\n",
       "      border-bottom-color: var(--fill-color);\n",
       "    }\n",
       "    90% {\n",
       "      border-color: transparent;\n",
       "      border-bottom-color: var(--fill-color);\n",
       "    }\n",
       "  }\n",
       "</style>\n",
       "\n",
       "  <script>\n",
       "    async function quickchart(key) {\n",
       "      const quickchartButtonEl =\n",
       "        document.querySelector('#' + key + ' button');\n",
       "      quickchartButtonEl.disabled = true;  // To prevent multiple clicks.\n",
       "      quickchartButtonEl.classList.add('colab-df-spinner');\n",
       "      try {\n",
       "        const charts = await google.colab.kernel.invokeFunction(\n",
       "            'suggestCharts', [key], {});\n",
       "      } catch (error) {\n",
       "        console.error('Error during call to suggestCharts:', error);\n",
       "      }\n",
       "      quickchartButtonEl.classList.remove('colab-df-spinner');\n",
       "      quickchartButtonEl.classList.add('colab-df-quickchart-complete');\n",
       "    }\n",
       "    (() => {\n",
       "      let quickchartButtonEl =\n",
       "        document.querySelector('#df-a468c900-75a2-414e-bf07-4f330f2de834 button');\n",
       "      quickchartButtonEl.style.display =\n",
       "        google.colab.kernel.accessAllowed ? 'block' : 'none';\n",
       "    })();\n",
       "  </script>\n",
       "</div>\n",
       "\n",
       "    </div>\n",
       "  </div>\n"
      ],
      "text/plain": [
       "   person_age  person_income person_home_ownership  person_emp_length  \\\n",
       "0          22          59000                  RENT              123.0   \n",
       "1          21           9600                   OWN                5.0   \n",
       "2          25           9600              MORTGAGE                1.0   \n",
       "3          23          65500                  RENT                4.0   \n",
       "4          24          54400                  RENT                8.0   \n",
       "\n",
       "  loan_intent loan_grade  loan_amnt  loan_int_rate  loan_status  \\\n",
       "0    PERSONAL          D      35000          16.02            1   \n",
       "1   EDUCATION          B       1000          11.14            0   \n",
       "2     MEDICAL          C       5500          12.87            1   \n",
       "3     MEDICAL          C      35000          15.23            1   \n",
       "4     MEDICAL          C      35000          14.27            1   \n",
       "\n",
       "   loan_percent_income cb_person_default_on_file  cb_person_cred_hist_length  \n",
       "0                 0.59                         Y                           3  \n",
       "1                 0.10                         N                           2  \n",
       "2                 0.57                         N                           3  \n",
       "3                 0.53                         N                           2  \n",
       "4                 0.55                         Y                           4  "
      ]
     },
     "execution_count": 87,
     "metadata": {},
     "output_type": "execute_result"
    }
   ],
   "source": [
    "# getting to know the data better\n",
    "#print(data.shape)\n",
    "#print(data.dtypes)\n",
    "data.head()"
   ]
  },
  {
   "cell_type": "code",
   "execution_count": null,
   "metadata": {
    "colab": {
     "base_uri": "https://localhost:8080/"
    },
    "id": "oYG92J1cqxod",
    "outputId": "c3340065-5fce-45e2-a9db-ca514497e7f7"
   },
   "outputs": [
    {
     "name": "stdout",
     "output_type": "stream",
     "text": [
      "         person_age  person_income  person_emp_length     loan_amnt  \\\n",
      "count  32581.000000   3.258100e+04       31686.000000  32581.000000   \n",
      "mean      27.734600   6.607485e+04           4.789686   9589.371106   \n",
      "std        6.348078   6.198312e+04           4.142630   6322.086646   \n",
      "min       20.000000   4.000000e+03           0.000000    500.000000   \n",
      "25%       23.000000   3.850000e+04           2.000000   5000.000000   \n",
      "50%       26.000000   5.500000e+04           4.000000   8000.000000   \n",
      "75%       30.000000   7.920000e+04           7.000000  12200.000000   \n",
      "max      144.000000   6.000000e+06         123.000000  35000.000000   \n",
      "\n",
      "       loan_int_rate   loan_status  loan_percent_income  \\\n",
      "count   29465.000000  32581.000000         32581.000000   \n",
      "mean       11.011695      0.218164             0.170203   \n",
      "std         3.240459      0.413006             0.106782   \n",
      "min         5.420000      0.000000             0.000000   \n",
      "25%         7.900000      0.000000             0.090000   \n",
      "50%        10.990000      0.000000             0.150000   \n",
      "75%        13.470000      0.000000             0.230000   \n",
      "max        23.220000      1.000000             0.830000   \n",
      "\n",
      "       cb_person_cred_hist_length  \n",
      "count                32581.000000  \n",
      "mean                     5.804211  \n",
      "std                      4.055001  \n",
      "min                      2.000000  \n",
      "25%                      3.000000  \n",
      "50%                      4.000000  \n",
      "75%                      8.000000  \n",
      "max                     30.000000  \n"
     ]
    }
   ],
   "source": [
    "print(data.describe())"
   ]
  },
  {
   "cell_type": "markdown",
   "metadata": {
    "id": "KbdqIzlErUeR"
   },
   "source": [
    "####The more the loan amount, the more likely the loan will be defaulted?"
   ]
  },
  {
   "cell_type": "code",
   "execution_count": null,
   "metadata": {
    "colab": {
     "base_uri": "https://localhost:8080/",
     "height": 54
    },
    "collapsed": true,
    "id": "DHLdM8ztiOLR",
    "jupyter": {
     "outputs_hidden": true
    },
    "outputId": "1d776c90-fe35-4371-bc8c-26565bc386ff"
   },
   "outputs": [
    {
     "data": {
      "image/png": "[encoded data removed]",
      "text/plain": [
       "<Figure size 640x480 with 1 Axes>"
      ]
     },
     "metadata": {},
     "output_type": "display_data"
    }
   ],
   "source": [
    "# plot data\n",
    "defaulted_loans = data[data[\"loan_status\"] == 1]\n",
    "non_defaulted_loans = data[data[\"loan_status\"] == 0]\n",
    "\n",
    "plt.hist(defaulted_loans['loan_amnt'], color='red', alpha=0.5, label='Defaulted')\n",
    "plt.hist(non_defaulted_loans['loan_amnt'], color='blue', alpha=0.5, label='Non-Defaulted')\n",
    "\n",
    "plt.xlabel('Loan Amount')\n",
    "plt.ylabel('Number of Loans')\n",
    "plt.title('Distribution of Loan Amounts by Loan Status')\n",
    "plt.legend()\n",
    "plt.grid(True)\n",
    "plt.show()"
   ]
  },
  {
   "cell_type": "markdown",
   "metadata": {
    "id": "Oyqqb7gBlask"
   },
   "source": [
    "This shows that how likely you are to default your loans doens't depend on the amount of your loan, since the shape of the 2 histograms are quite similar."
   ]
  },
  {
   "cell_type": "markdown",
   "metadata": {
    "id": "yzx6nhhupWLR"
   },
   "source": [
    "### Data Cleaning"
   ]
  },
  {
   "cell_type": "markdown",
   "metadata": {
    "id": "8R3uWLEs1H5W"
   },
   "source": [
    "#### Check which data has empty values"
   ]
  },
  {
   "cell_type": "code",
   "execution_count": null,
   "metadata": {
    "colab": {
     "base_uri": "https://localhost:8080/"
    },
    "id": "1nZnRAHnXTiM",
    "outputId": "6697fbbd-45f3-4166-8938-e67733e6e74e"
   },
   "outputs": [
    {
     "name": "stdout",
     "output_type": "stream",
     "text": [
      "person_age                       0\n",
      "person_income                    0\n",
      "person_home_ownership            0\n",
      "person_emp_length              895\n",
      "loan_intent                      0\n",
      "loan_grade                       0\n",
      "loan_amnt                        0\n",
      "loan_int_rate                 3116\n",
      "loan_status                      0\n",
      "loan_percent_income              0\n",
      "cb_person_default_on_file        0\n",
      "cb_person_cred_hist_length       0\n",
      "dtype: int64\n"
     ]
    }
   ],
   "source": [
    "# check missing values\n",
    "print(data.isnull().sum())"
   ]
  },
  {
   "cell_type": "markdown",
   "metadata": {
    "id": "J3i7NO4Ysh5G"
   },
   "source": [
    "Seems like a lot of data in loan interest rate (loan_int_rate) is missing. And this is important data as it will likely affect the default rate.\n",
    "\n",
    "So, I will select all data where loan_int_rate is missing to see if there are any correlation."
   ]
  },
  {
   "cell_type": "code",
   "execution_count": null,
   "metadata": {
    "id": "xTSzaVb7jD2_"
   },
   "outputs": [],
   "source": [
    "# split int missing rates data & contain rates data\n",
    "missing_rates_data = data[data[\"loan_int_rate\"].isnull()]\n",
    "contain_rates_data = data[data[\"loan_int_rate\"].notnull()]"
   ]
  },
  {
   "cell_type": "code",
   "execution_count": null,
   "metadata": {
    "colab": {
     "base_uri": "https://localhost:8080/",
     "height": 54
    },
    "id": "WDUdjQKPs_DF",
    "outputId": "e3e28768-3ec2-4509-fdaf-1f9e2562e342"
   },
   "outputs": [
    {
     "data": {
      "image/png": "[encoded data removed]",
      "text/plain": [
       "<Figure size 1000x600 with 4 Axes>"
      ]
     },
     "metadata": {},
     "output_type": "display_data"
    }
   ],
   "source": [
    "# features I want to compare\n",
    "features = ['loan_intent', 'loan_grade', 'loan_amnt', 'loan_status']\n",
    "row = 0\n",
    "col = 0\n",
    "\n",
    "# create subplots\n",
    "fig, axes = plt.subplots(2, 2, figsize=(10,6))\n",
    "\n",
    "# main loop to fill subplots\n",
    "for feature in features:\n",
    "  ax = axes[row, col]\n",
    "\n",
    "  if feature == 'loan_amnt':\n",
    "    ax.hist(missing_rates_data[feature], color='red', alpha=0.5, label='Missing Rates')\n",
    "    ax.hist(contain_rates_data[feature], color='blue', alpha=0.5, label='Normal Data')\n",
    "  else:\n",
    "    # Calculate percentage counts for categorical features\n",
    "    total_missing = len(missing_rates_data)\n",
    "    total_normal = len(contain_rates_data)\n",
    "    missing_rates_data_pct = missing_rates_data[feature].value_counts(normalize=True) * 100  # Percentages for missing data\n",
    "    contain_rates_data_pct = contain_rates_data[feature].value_counts(normalize=True) * 100  # Percentages for normal data\n",
    "\n",
    "    # Plot bar charts with percentages\n",
    "    missing_rates_data_pct.plot(kind='bar', color='red', alpha=0.5, ax=ax, label='Missing Rates')\n",
    "    contain_rates_data_pct.plot(kind='bar', color='blue', alpha=0.5, ax=ax, label='Normal Data')\n",
    "    plt.xticks(rotation=45, ha='right')  # Rotate x-axis labels for better readability\n",
    "\n",
    "    # Adjust y-axis limits and label for percentages\n",
    "    ax.set_ylim(0, 100)\n",
    "    ax.set_ylabel('Percentage (%)')\n",
    "\n",
    "  # Set labels and title for each subplot\n",
    "  ax.set_xlabel(feature)\n",
    "  ax.set_title(f'{feature} Distribution')\n",
    "  ax.legend()\n",
    "  ax.grid(True)\n",
    "\n",
    "  # Update row and col for the next subplot\n",
    "  col += 1\n",
    "  if col > 1:\n",
    "    row += 1\n",
    "    col = 0\n",
    "\n",
    "plt.tight_layout()\n",
    "plt.show()"
   ]
  },
  {
   "cell_type": "markdown",
   "metadata": {
    "id": "IWjLK-DE0fqA"
   },
   "source": [
    "The data with missing interest rate details are also pretty similar with the other data containing interest rate details.\n",
    "\n",
    "For simplicity, I could just remove all of the data with empty interest rates, but it is a lot of data missing, so I will just replace them with the median interest rate (which works just as well)."
   ]
  },
  {
   "cell_type": "markdown",
   "metadata": {
    "id": "7DkEKgYn06dq"
   },
   "source": [
    "#### Filling mean interest rate to rows with empty loan_int_rate  "
   ]
  },
  {
   "cell_type": "code",
   "execution_count": null,
   "metadata": {
    "id": "wXFFR5Mx185x"
   },
   "outputs": [],
   "source": [
    "data['person_emp_length'].fillna(data['person_emp_length'].median(), inplace = True)\n",
    "data['loan_int_rate'].fillna(data['loan_int_rate'].median(), inplace = True)"
   ]
  },
  {
   "cell_type": "code",
   "execution_count": null,
   "metadata": {
    "colab": {
     "base_uri": "https://localhost:8080/"
    },
    "id": "M0Ma4oVL3apV",
    "outputId": "cad02edc-bb35-4c50-a225-a40fd8aa69ef"
   },
   "outputs": [
    {
     "name": "stdout",
     "output_type": "stream",
     "text": [
      "person_age                    0\n",
      "person_income                 0\n",
      "person_home_ownership         0\n",
      "person_emp_length             0\n",
      "loan_intent                   0\n",
      "loan_grade                    0\n",
      "loan_amnt                     0\n",
      "loan_int_rate                 0\n",
      "loan_status                   0\n",
      "loan_percent_income           0\n",
      "cb_person_default_on_file     0\n",
      "cb_person_cred_hist_length    0\n",
      "dtype: int64\n"
     ]
    }
   ],
   "source": [
    "print(data.isnull().sum())"
   ]
  },
  {
   "cell_type": "markdown",
   "metadata": {
    "id": "a23s5R_b5Jdg"
   },
   "source": [
    "Now that our data has no missing values, we have to remove the outliers. When I was exploring the data, I noticed a some outliers (120 years of employment length in years??? really??)"
   ]
  },
  {
   "cell_type": "markdown",
   "metadata": {
    "id": "T0I06Rcp5crT"
   },
   "source": [
    "#### Handling Outliers using z-scores"
   ]
  },
  {
   "cell_type": "code",
   "execution_count": null,
   "metadata": {
    "id": "HpzUFk7b5aAd"
   },
   "outputs": [],
   "source": [
    "#using z_scores\n",
    "from scipy import stats\n",
    "z_scores = stats.zscore(data.select_dtypes(include = [float, int]))\n",
    "abs_z_scores = np.abs(z_scores)\n",
    "filtered_entries = (abs_z_scores < 3).all(axis=1)\n",
    "clean_data = data[filtered_entries]\n",
    "\n"
   ]
  },
  {
   "cell_type": "code",
   "execution_count": null,
   "metadata": {
    "colab": {
     "base_uri": "https://localhost:8080/",
     "height": 439
    },
    "id": "U6W_wnLjsGny",
    "outputId": "a2fc816d-149c-4d20-dc9f-641c1f97c224"
   },
   "outputs": [
    {
     "data": {
      "application/vnd.google.colaboratory.intrinsic+json": {
       "summary": "{\n  \"name\": \"clean_data\",\n  \"rows\": 30881,\n  \"fields\": [\n    {\n      \"column\": \"person_age\",\n      \"properties\": {\n        \"dtype\": \"number\",\n        \"std\": 5,\n        \"min\": 20,\n        \"max\": 46,\n        \"num_unique_values\": 27,\n        \"samples\": [\n          27,\n          31,\n          30\n        ],\n        \"semantic_type\": \"\",\n        \"description\": \"\"\n      }\n    },\n    {\n      \"column\": \"person_income\",\n      \"properties\": {\n        \"dtype\": \"number\",\n        \"std\": 34923,\n        \"min\": 4080,\n        \"max\": 250000,\n        \"num_unique_values\": 4030,\n        \"samples\": [\n          64424,\n          36800,\n          18864\n        ],\n        \"semantic_type\": \"\",\n        \"description\": \"\"\n      }\n    },\n    {\n      \"column\": \"person_home_ownership\",\n      \"properties\": {\n        \"dtype\": \"category\",\n        \"num_unique_values\": 4,\n        \"samples\": [\n          \"MORTGAGE\",\n          \"RENT\",\n          \"OWN\"\n        ],\n        \"semantic_type\": \"\",\n        \"description\": \"\"\n      }\n    },\n    {\n      \"column\": \"person_emp_length\",\n      \"properties\": {\n        \"dtype\": \"number\",\n        \"std\": 3.6472939181252633,\n        \"min\": 0.0,\n        \"max\": 17.0,\n        \"num_unique_values\": 18,\n        \"samples\": [\n          5.0,\n          2.0,\n          7.0\n        ],\n        \"semantic_type\": \"\",\n        \"description\": \"\"\n      }\n    },\n    {\n      \"column\": \"loan_intent\",\n      \"properties\": {\n        \"dtype\": \"category\",\n        \"num_unique_values\": 6,\n        \"samples\": [\n          \"EDUCATION\",\n          \"VENTURE\",\n          \"DEBTCONSOLIDATION\"\n        ],\n        \"semantic_type\": \"\",\n        \"description\": \"\"\n      }\n    },\n    {\n      \"column\": \"loan_grade\",\n      \"properties\": {\n        \"dtype\": \"category\",\n        \"num_unique_values\": 7,\n        \"samples\": [\n          \"B\",\n          \"A\",\n          \"F\"\n        ],\n        \"semantic_type\": \"\",\n        \"description\": \"\"\n      }\n    },\n    {\n      \"column\": \"loan_amnt\",\n      \"properties\": {\n        \"dtype\": \"number\",\n        \"std\": 5771,\n        \"min\": 500,\n        \"max\": 28250,\n        \"num_unique_values\": 713,\n        \"samples\": [\n          7350,\n          15450,\n          24000\n        ],\n        \"semantic_type\": \"\",\n        \"description\": \"\"\n      }\n    },\n    {\n      \"column\": \"loan_int_rate\",\n      \"properties\": {\n        \"dtype\": \"number\",\n        \"std\": 3.0439669013001165,\n        \"min\": 5.42,\n        \"max\": 20.25,\n        \"num_unique_values\": 327,\n        \"samples\": [\n          12.22,\n          11.91,\n          12.17\n        ],\n        \"semantic_type\": \"\",\n        \"description\": \"\"\n      }\n    },\n    {\n      \"column\": \"loan_status\",\n      \"properties\": {\n        \"dtype\": \"number\",\n        \"std\": 0,\n        \"min\": 0,\n        \"max\": 1,\n        \"num_unique_values\": 2,\n        \"samples\": [\n          1,\n          0\n        ],\n        \"semantic_type\": \"\",\n        \"description\": \"\"\n      }\n    },\n    {\n      \"column\": \"loan_percent_income\",\n      \"properties\": {\n        \"dtype\": \"number\",\n        \"std\": 0.09886076473869045,\n        \"min\": 0.01,\n        \"max\": 0.49,\n        \"num_unique_values\": 49,\n        \"samples\": [\n          0.33,\n          0.24\n        ],\n        \"semantic_type\": \"\",\n        \"description\": \"\"\n      }\n    },\n    {\n      \"column\": \"cb_person_default_on_file\",\n      \"properties\": {\n        \"dtype\": \"category\",\n        \"num_unique_values\": 2,\n        \"samples\": [\n          \"Y\",\n          \"N\"\n        ],\n        \"semantic_type\": \"\",\n        \"description\": \"\"\n      }\n    },\n    {\n      \"column\": \"cb_person_cred_hist_length\",\n      \"properties\": {\n        \"dtype\": \"number\",\n        \"std\": 3,\n        \"min\": 2,\n        \"max\": 17,\n        \"num_unique_values\": 16,\n        \"samples\": [\n          2,\n          3\n        ],\n        \"semantic_type\": \"\",\n        \"description\": \"\"\n      }\n    }\n  ]\n}",
       "type": "dataframe",
       "variable_name": "clean_data"
      },
      "text/html": [
       "\n",
       "  <div id=\"df-d31a11bd-d816-40ff-b4d4-a688c9610a15\" class=\"colab-df-container\">\n",
       "    <div>\n",
       "<style scoped>\n",
       "    .dataframe tbody tr th:only-of-type {\n",
       "        vertical-align: middle;\n",
       "    }\n",
       "\n",
       "    .dataframe tbody tr th {\n",
       "        vertical-align: top;\n",
       "    }\n",
       "\n",
       "    .dataframe thead th {\n",
       "        text-align: right;\n",
       "    }\n",
       "</style>\n",
       "<table border=\"1\" class=\"dataframe\">\n",
       "  <thead>\n",
       "    <tr style=\"text-align: right;\">\n",
       "      <th></th>\n",
       "      <th>person_age</th>\n",
       "      <th>person_income</th>\n",
       "      <th>person_home_ownership</th>\n",
       "      <th>person_emp_length</th>\n",
       "      <th>loan_intent</th>\n",
       "      <th>loan_grade</th>\n",
       "      <th>loan_amnt</th>\n",
       "      <th>loan_int_rate</th>\n",
       "      <th>loan_status</th>\n",
       "      <th>loan_percent_income</th>\n",
       "      <th>cb_person_default_on_file</th>\n",
       "      <th>cb_person_cred_hist_length</th>\n",
       "    </tr>\n",
       "  </thead>\n",
       "  <tbody>\n",
       "    <tr>\n",
       "      <th>1</th>\n",
       "      <td>21</td>\n",
       "      <td>9600</td>\n",
       "      <td>OWN</td>\n",
       "      <td>5.0</td>\n",
       "      <td>EDUCATION</td>\n",
       "      <td>B</td>\n",
       "      <td>1000</td>\n",
       "      <td>11.14</td>\n",
       "      <td>0</td>\n",
       "      <td>0.10</td>\n",
       "      <td>N</td>\n",
       "      <td>2</td>\n",
       "    </tr>\n",
       "    <tr>\n",
       "      <th>5</th>\n",
       "      <td>21</td>\n",
       "      <td>9900</td>\n",
       "      <td>OWN</td>\n",
       "      <td>2.0</td>\n",
       "      <td>VENTURE</td>\n",
       "      <td>A</td>\n",
       "      <td>2500</td>\n",
       "      <td>7.14</td>\n",
       "      <td>1</td>\n",
       "      <td>0.25</td>\n",
       "      <td>N</td>\n",
       "      <td>2</td>\n",
       "    </tr>\n",
       "    <tr>\n",
       "      <th>9</th>\n",
       "      <td>21</td>\n",
       "      <td>10000</td>\n",
       "      <td>OWN</td>\n",
       "      <td>6.0</td>\n",
       "      <td>VENTURE</td>\n",
       "      <td>D</td>\n",
       "      <td>1600</td>\n",
       "      <td>14.74</td>\n",
       "      <td>1</td>\n",
       "      <td>0.16</td>\n",
       "      <td>N</td>\n",
       "      <td>3</td>\n",
       "    </tr>\n",
       "    <tr>\n",
       "      <th>11</th>\n",
       "      <td>21</td>\n",
       "      <td>10000</td>\n",
       "      <td>OWN</td>\n",
       "      <td>2.0</td>\n",
       "      <td>HOMEIMPROVEMENT</td>\n",
       "      <td>A</td>\n",
       "      <td>4500</td>\n",
       "      <td>8.63</td>\n",
       "      <td>1</td>\n",
       "      <td>0.45</td>\n",
       "      <td>N</td>\n",
       "      <td>2</td>\n",
       "    </tr>\n",
       "    <tr>\n",
       "      <th>19</th>\n",
       "      <td>24</td>\n",
       "      <td>10800</td>\n",
       "      <td>MORTGAGE</td>\n",
       "      <td>8.0</td>\n",
       "      <td>EDUCATION</td>\n",
       "      <td>B</td>\n",
       "      <td>1750</td>\n",
       "      <td>10.99</td>\n",
       "      <td>1</td>\n",
       "      <td>0.16</td>\n",
       "      <td>N</td>\n",
       "      <td>2</td>\n",
       "    </tr>\n",
       "    <tr>\n",
       "      <th>...</th>\n",
       "      <td>...</td>\n",
       "      <td>...</td>\n",
       "      <td>...</td>\n",
       "      <td>...</td>\n",
       "      <td>...</td>\n",
       "      <td>...</td>\n",
       "      <td>...</td>\n",
       "      <td>...</td>\n",
       "      <td>...</td>\n",
       "      <td>...</td>\n",
       "      <td>...</td>\n",
       "      <td>...</td>\n",
       "    </tr>\n",
       "    <tr>\n",
       "      <th>32290</th>\n",
       "      <td>37</td>\n",
       "      <td>90000</td>\n",
       "      <td>MORTGAGE</td>\n",
       "      <td>11.0</td>\n",
       "      <td>DEBTCONSOLIDATION</td>\n",
       "      <td>A</td>\n",
       "      <td>4000</td>\n",
       "      <td>6.62</td>\n",
       "      <td>0</td>\n",
       "      <td>0.04</td>\n",
       "      <td>N</td>\n",
       "      <td>15</td>\n",
       "    </tr>\n",
       "    <tr>\n",
       "      <th>32292</th>\n",
       "      <td>38</td>\n",
       "      <td>200000</td>\n",
       "      <td>MORTGAGE</td>\n",
       "      <td>0.0</td>\n",
       "      <td>DEBTCONSOLIDATION</td>\n",
       "      <td>A</td>\n",
       "      <td>3000</td>\n",
       "      <td>7.68</td>\n",
       "      <td>0</td>\n",
       "      <td>0.01</td>\n",
       "      <td>N</td>\n",
       "      <td>12</td>\n",
       "    </tr>\n",
       "    <tr>\n",
       "      <th>32293</th>\n",
       "      <td>38</td>\n",
       "      <td>110000</td>\n",
       "      <td>MORTGAGE</td>\n",
       "      <td>5.0</td>\n",
       "      <td>MEDICAL</td>\n",
       "      <td>B</td>\n",
       "      <td>16000</td>\n",
       "      <td>11.99</td>\n",
       "      <td>0</td>\n",
       "      <td>0.15</td>\n",
       "      <td>N</td>\n",
       "      <td>13</td>\n",
       "    </tr>\n",
       "    <tr>\n",
       "      <th>32295</th>\n",
       "      <td>42</td>\n",
       "      <td>101000</td>\n",
       "      <td>MORTGAGE</td>\n",
       "      <td>6.0</td>\n",
       "      <td>DEBTCONSOLIDATION</td>\n",
       "      <td>F</td>\n",
       "      <td>25000</td>\n",
       "      <td>16.15</td>\n",
       "      <td>1</td>\n",
       "      <td>0.25</td>\n",
       "      <td>Y</td>\n",
       "      <td>14</td>\n",
       "    </tr>\n",
       "    <tr>\n",
       "      <th>32296</th>\n",
       "      <td>40</td>\n",
       "      <td>52000</td>\n",
       "      <td>RENT</td>\n",
       "      <td>2.0</td>\n",
       "      <td>EDUCATION</td>\n",
       "      <td>F</td>\n",
       "      <td>15000</td>\n",
       "      <td>18.62</td>\n",
       "      <td>1</td>\n",
       "      <td>0.29</td>\n",
       "      <td>Y</td>\n",
       "      <td>16</td>\n",
       "    </tr>\n",
       "  </tbody>\n",
       "</table>\n",
       "<p>30881 rows × 12 columns</p>\n",
       "</div>\n",
       "    <div class=\"colab-df-buttons\">\n",
       "\n",
       "  <div class=\"colab-df-container\">\n",
       "    <button class=\"colab-df-convert\" onclick=\"convertToInteractive('df-d31a11bd-d816-40ff-b4d4-a688c9610a15')\"\n",
       "            title=\"Convert this dataframe to an interactive table.\"\n",
       "            style=\"display:none;\">\n",
       "\n",
       "  <svg xmlns=\"http://www.w3.org/2000/svg\" height=\"24px\" viewBox=\"0 -960 960 960\">\n",
       "    <path d=\"M120-120v-720h720v720H120Zm60-500h600v-160H180v160Zm220 220h160v-160H400v160Zm0 220h160v-160H400v160ZM180-400h160v-160H180v160Zm440 0h160v-160H620v160ZM180-180h160v-160H180v160Zm440 0h160v-160H620v160Z\"/>\n",
       "  </svg>\n",
       "    </button>\n",
       "\n",
       "  <style>\n",
       "    .colab-df-container {\n",
       "      display:flex;\n",
       "      gap: 12px;\n",
       "    }\n",
       "\n",
       "    .colab-df-convert {\n",
       "      background-color: #E8F0FE;\n",
       "      border: none;\n",
       "      border-radius: 50%;\n",
       "      cursor: pointer;\n",
       "      display: none;\n",
       "      fill: #1967D2;\n",
       "      height: 32px;\n",
       "      padding: 0 0 0 0;\n",
       "      width: 32px;\n",
       "    }\n",
       "\n",
       "    .colab-df-convert:hover {\n",
       "      background-color: #E2EBFA;\n",
       "      box-shadow: 0px 1px 2px rgba(60, 64, 67, 0.3), 0px 1px 3px 1px rgba(60, 64, 67, 0.15);\n",
       "      fill: #174EA6;\n",
       "    }\n",
       "\n",
       "    .colab-df-buttons div {\n",
       "      margin-bottom: 4px;\n",
       "    }\n",
       "\n",
       "    [theme=dark] .colab-df-convert {\n",
       "      background-color: #3B4455;\n",
       "      fill: #D2E3FC;\n",
       "    }\n",
       "\n",
       "    [theme=dark] .colab-df-convert:hover {\n",
       "      background-color: #434B5C;\n",
       "      box-shadow: 0px 1px 3px 1px rgba(0, 0, 0, 0.15);\n",
       "      filter: drop-shadow(0px 1px 2px rgba(0, 0, 0, 0.3));\n",
       "      fill: #FFFFFF;\n",
       "    }\n",
       "  </style>\n",
       "\n",
       "    <script>\n",
       "      const buttonEl =\n",
       "        document.querySelector('#df-d31a11bd-d816-40ff-b4d4-a688c9610a15 button.colab-df-convert');\n",
       "      buttonEl.style.display =\n",
       "        google.colab.kernel.accessAllowed ? 'block' : 'none';\n",
       "\n",
       "      async function convertToInteractive(key) {\n",
       "        const element = document.querySelector('#df-d31a11bd-d816-40ff-b4d4-a688c9610a15');\n",
       "        const dataTable =\n",
       "          await google.colab.kernel.invokeFunction('convertToInteractive',\n",
       "                                                    [key], {});\n",
       "        if (!dataTable) return;\n",
       "\n",
       "        const docLinkHtml = 'Like what you see? Visit the ' +\n",
       "          '<a target=\"_blank\" href=https://colab.research.google.com/notebooks/data_table.ipynb>data table notebook</a>'\n",
       "          + ' to learn more about interactive tables.';\n",
       "        element.innerHTML = '';\n",
       "        dataTable['output_type'] = 'display_data';\n",
       "        await google.colab.output.renderOutput(dataTable, element);\n",
       "        const docLink = document.createElement('div');\n",
       "        docLink.innerHTML = docLinkHtml;\n",
       "        element.appendChild(docLink);\n",
       "      }\n",
       "    </script>\n",
       "  </div>\n",
       "\n",
       "\n",
       "<div id=\"df-92750d3b-b81a-4ffb-b679-3f68d6510951\">\n",
       "  <button class=\"colab-df-quickchart\" onclick=\"quickchart('df-92750d3b-b81a-4ffb-b679-3f68d6510951')\"\n",
       "            title=\"Suggest charts\"\n",
       "            style=\"display:none;\">\n",
       "\n",
       "<svg xmlns=\"http://www.w3.org/2000/svg\" height=\"24px\"viewBox=\"0 0 24 24\"\n",
       "     width=\"24px\">\n",
       "    <g>\n",
       "        <path d=\"M19 3H5c-1.1 0-2 .9-2 2v14c0 1.1.9 2 2 2h14c1.1 0 2-.9 2-2V5c0-1.1-.9-2-2-2zM9 17H7v-7h2v7zm4 0h-2V7h2v10zm4 0h-2v-4h2v4z\"/>\n",
       "    </g>\n",
       "</svg>\n",
       "  </button>\n",
       "\n",
       "<style>\n",
       "  .colab-df-quickchart {\n",
       "      --bg-color: #E8F0FE;\n",
       "      --fill-color: #1967D2;\n",
       "      --hover-bg-color: #E2EBFA;\n",
       "      --hover-fill-color: #174EA6;\n",
       "      --disabled-fill-color: #AAA;\n",
       "      --disabled-bg-color: #DDD;\n",
       "  }\n",
       "\n",
       "  [theme=dark] .colab-df-quickchart {\n",
       "      --bg-color: #3B4455;\n",
       "      --fill-color: #D2E3FC;\n",
       "      --hover-bg-color: #434B5C;\n",
       "      --hover-fill-color: #FFFFFF;\n",
       "      --disabled-bg-color: #3B4455;\n",
       "      --disabled-fill-color: #666;\n",
       "  }\n",
       "\n",
       "  .colab-df-quickchart {\n",
       "    background-color: var(--bg-color);\n",
       "    border: none;\n",
       "    border-radius: 50%;\n",
       "    cursor: pointer;\n",
       "    display: none;\n",
       "    fill: var(--fill-color);\n",
       "    height: 32px;\n",
       "    padding: 0;\n",
       "    width: 32px;\n",
       "  }\n",
       "\n",
       "  .colab-df-quickchart:hover {\n",
       "    background-color: var(--hover-bg-color);\n",
       "    box-shadow: 0 1px 2px rgba(60, 64, 67, 0.3), 0 1px 3px 1px rgba(60, 64, 67, 0.15);\n",
       "    fill: var(--button-hover-fill-color);\n",
       "  }\n",
       "\n",
       "  .colab-df-quickchart-complete:disabled,\n",
       "  .colab-df-quickchart-complete:disabled:hover {\n",
       "    background-color: var(--disabled-bg-color);\n",
       "    fill: var(--disabled-fill-color);\n",
       "    box-shadow: none;\n",
       "  }\n",
       "\n",
       "  .colab-df-spinner {\n",
       "    border: 2px solid var(--fill-color);\n",
       "    border-color: transparent;\n",
       "    border-bottom-color: var(--fill-color);\n",
       "    animation:\n",
       "      spin 1s steps(1) infinite;\n",
       "  }\n",
       "\n",
       "  @keyframes spin {\n",
       "    0% {\n",
       "      border-color: transparent;\n",
       "      border-bottom-color: var(--fill-color);\n",
       "      border-left-color: var(--fill-color);\n",
       "    }\n",
       "    20% {\n",
       "      border-color: transparent;\n",
       "      border-left-color: var(--fill-color);\n",
       "      border-top-color: var(--fill-color);\n",
       "    }\n",
       "    30% {\n",
       "      border-color: transparent;\n",
       "      border-left-color: var(--fill-color);\n",
       "      border-top-color: var(--fill-color);\n",
       "      border-right-color: var(--fill-color);\n",
       "    }\n",
       "    40% {\n",
       "      border-color: transparent;\n",
       "      border-right-color: var(--fill-color);\n",
       "      border-top-color: var(--fill-color);\n",
       "    }\n",
       "    60% {\n",
       "      border-color: transparent;\n",
       "      border-right-color: var(--fill-color);\n",
       "    }\n",
       "    80% {\n",
       "      border-color: transparent;\n",
       "      border-right-color: var(--fill-color);\n",
       "      border-bottom-color: var(--fill-color);\n",
       "    }\n",
       "    90% {\n",
       "      border-color: transparent;\n",
       "      border-bottom-color: var(--fill-color);\n",
       "    }\n",
       "  }\n",
       "</style>\n",
       "\n",
       "  <script>\n",
       "    async function quickchart(key) {\n",
       "      const quickchartButtonEl =\n",
       "        document.querySelector('#' + key + ' button');\n",
       "      quickchartButtonEl.disabled = true;  // To prevent multiple clicks.\n",
       "      quickchartButtonEl.classList.add('colab-df-spinner');\n",
       "      try {\n",
       "        const charts = await google.colab.kernel.invokeFunction(\n",
       "            'suggestCharts', [key], {});\n",
       "      } catch (error) {\n",
       "        console.error('Error during call to suggestCharts:', error);\n",
       "      }\n",
       "      quickchartButtonEl.classList.remove('colab-df-spinner');\n",
       "      quickchartButtonEl.classList.add('colab-df-quickchart-complete');\n",
       "    }\n",
       "    (() => {\n",
       "      let quickchartButtonEl =\n",
       "        document.querySelector('#df-92750d3b-b81a-4ffb-b679-3f68d6510951 button');\n",
       "      quickchartButtonEl.style.display =\n",
       "        google.colab.kernel.accessAllowed ? 'block' : 'none';\n",
       "    })();\n",
       "  </script>\n",
       "</div>\n",
       "\n",
       "  <div id=\"id_62d86400-4dba-4ae3-97ea-eac49275199a\">\n",
       "    <style>\n",
       "      .colab-df-generate {\n",
       "        background-color: #E8F0FE;\n",
       "        border: none;\n",
       "        border-radius: 50%;\n",
       "        cursor: pointer;\n",
       "        display: none;\n",
       "        fill: #1967D2;\n",
       "        height: 32px;\n",
       "        padding: 0 0 0 0;\n",
       "        width: 32px;\n",
       "      }\n",
       "\n",
       "      .colab-df-generate:hover {\n",
       "        background-color: #E2EBFA;\n",
       "        box-shadow: 0px 1px 2px rgba(60, 64, 67, 0.3), 0px 1px 3px 1px rgba(60, 64, 67, 0.15);\n",
       "        fill: #174EA6;\n",
       "      }\n",
       "\n",
       "      [theme=dark] .colab-df-generate {\n",
       "        background-color: #3B4455;\n",
       "        fill: #D2E3FC;\n",
       "      }\n",
       "\n",
       "      [theme=dark] .colab-df-generate:hover {\n",
       "        background-color: #434B5C;\n",
       "        box-shadow: 0px 1px 3px 1px rgba(0, 0, 0, 0.15);\n",
       "        filter: drop-shadow(0px 1px 2px rgba(0, 0, 0, 0.3));\n",
       "        fill: #FFFFFF;\n",
       "      }\n",
       "    </style>\n",
       "    <button class=\"colab-df-generate\" onclick=\"generateWithVariable('clean_data')\"\n",
       "            title=\"Generate code using this dataframe.\"\n",
       "            style=\"display:none;\">\n",
       "\n",
       "  <svg xmlns=\"http://www.w3.org/2000/svg\" height=\"24px\"viewBox=\"0 0 24 24\"\n",
       "       width=\"24px\">\n",
       "    <path d=\"M7,19H8.4L18.45,9,17,7.55,7,17.6ZM5,21V16.75L18.45,3.32a2,2,0,0,1,2.83,0l1.4,1.43a1.91,1.91,0,0,1,.58,1.4,1.91,1.91,0,0,1-.58,1.4L9.25,21ZM18.45,9,17,7.55Zm-12,3A5.31,5.31,0,0,0,4.9,8.1,5.31,5.31,0,0,0,1,6.5,5.31,5.31,0,0,0,4.9,4.9,5.31,5.31,0,0,0,6.5,1,5.31,5.31,0,0,0,8.1,4.9,5.31,5.31,0,0,0,12,6.5,5.46,5.46,0,0,0,6.5,12Z\"/>\n",
       "  </svg>\n",
       "    </button>\n",
       "    <script>\n",
       "      (() => {\n",
       "      const buttonEl =\n",
       "        document.querySelector('#id_62d86400-4dba-4ae3-97ea-eac49275199a button.colab-df-generate');\n",
       "      buttonEl.style.display =\n",
       "        google.colab.kernel.accessAllowed ? 'block' : 'none';\n",
       "\n",
       "      buttonEl.onclick = () => {\n",
       "        google.colab.notebook.generateWithVariable('clean_data');\n",
       "      }\n",
       "      })();\n",
       "    </script>\n",
       "  </div>\n",
       "\n",
       "    </div>\n",
       "  </div>\n"
      ],
      "text/plain": [
       "       person_age  person_income person_home_ownership  person_emp_length  \\\n",
       "1              21           9600                   OWN                5.0   \n",
       "5              21           9900                   OWN                2.0   \n",
       "9              21          10000                   OWN                6.0   \n",
       "11             21          10000                   OWN                2.0   \n",
       "19             24          10800              MORTGAGE                8.0   \n",
       "...           ...            ...                   ...                ...   \n",
       "32290          37          90000              MORTGAGE               11.0   \n",
       "32292          38         200000              MORTGAGE                0.0   \n",
       "32293          38         110000              MORTGAGE                5.0   \n",
       "32295          42         101000              MORTGAGE                6.0   \n",
       "32296          40          52000                  RENT                2.0   \n",
       "\n",
       "             loan_intent loan_grade  loan_amnt  loan_int_rate  loan_status  \\\n",
       "1              EDUCATION          B       1000          11.14            0   \n",
       "5                VENTURE          A       2500           7.14            1   \n",
       "9                VENTURE          D       1600          14.74            1   \n",
       "11       HOMEIMPROVEMENT          A       4500           8.63            1   \n",
       "19             EDUCATION          B       1750          10.99            1   \n",
       "...                  ...        ...        ...            ...          ...   \n",
       "32290  DEBTCONSOLIDATION          A       4000           6.62            0   \n",
       "32292  DEBTCONSOLIDATION          A       3000           7.68            0   \n",
       "32293            MEDICAL          B      16000          11.99            0   \n",
       "32295  DEBTCONSOLIDATION          F      25000          16.15            1   \n",
       "32296          EDUCATION          F      15000          18.62            1   \n",
       "\n",
       "       loan_percent_income cb_person_default_on_file  \\\n",
       "1                     0.10                         N   \n",
       "5                     0.25                         N   \n",
       "9                     0.16                         N   \n",
       "11                    0.45                         N   \n",
       "19                    0.16                         N   \n",
       "...                    ...                       ...   \n",
       "32290                 0.04                         N   \n",
       "32292                 0.01                         N   \n",
       "32293                 0.15                         N   \n",
       "32295                 0.25                         Y   \n",
       "32296                 0.29                         Y   \n",
       "\n",
       "       cb_person_cred_hist_length  \n",
       "1                               2  \n",
       "5                               2  \n",
       "9                               3  \n",
       "11                              2  \n",
       "19                              2  \n",
       "...                           ...  \n",
       "32290                          15  \n",
       "32292                          12  \n",
       "32293                          13  \n",
       "32295                          14  \n",
       "32296                          16  \n",
       "\n",
       "[30881 rows x 12 columns]"
      ]
     },
     "execution_count": 96,
     "metadata": {},
     "output_type": "execute_result"
    }
   ],
   "source": [
    "clean_data"
   ]
  },
  {
   "cell_type": "markdown",
   "metadata": {
    "id": "EyZXuhu3vru_"
   },
   "source": [
    "Now, we have a dataset that is free from empty values, and we removed some outliers. So, this data is now clean!!!"
   ]
  },
  {
   "cell_type": "markdown",
   "metadata": {
    "id": "jJ94xRjDv29I"
   },
   "source": [
    "### Machine Learning"
   ]
  },
  {
   "cell_type": "markdown",
   "metadata": {
    "id": "oTPBjlME5k9o"
   },
   "source": [
    "#### Train Test Split"
   ]
  },
  {
   "cell_type": "markdown",
   "metadata": {
    "id": "otGsRyeS1mH1"
   },
   "source": [
    "We first split our data into training and test datasets. 20% of the data will be used for testing (test_size = 0.2)\n",
    "\n",
    "\n",
    "Also, note the get_dummies is for one hot encoding.\n",
    "\n",
    "Essentially, instead of person_home_ownership which could be RENT or OWN or OTHER, we create a new column that says: This person rents. Or this person owns. Or this person neither rent or owns.  "
   ]
  },
  {
   "cell_type": "code",
   "execution_count": null,
   "metadata": {
    "id": "B74KRPGPqlG1"
   },
   "outputs": [],
   "source": [
    "# train test split\n",
    "from sklearn.model_selection import train_test_split\n",
    "\n",
    "# one hot encoding\n",
    "clean_data = pd.get_dummies(clean_data, drop_first=True)\n",
    "\n",
    "X = clean_data.drop(columns = ['loan_status'])\n",
    "y = clean_data['loan_status']\n",
    "\n",
    "X_train, X_test, y_train, y_test = train_test_split(X, y, test_size=0.2, random_state=42)"
   ]
  },
  {
   "cell_type": "markdown",
   "metadata": {
    "id": "oLIjhRor5p50"
   },
   "source": [
    "#### Feature Selection (Random Forest)"
   ]
  },
  {
   "cell_type": "markdown",
   "metadata": {
    "id": "q6L2rYub1wSY"
   },
   "source": [
    "Then, we apply random forest and decision tree (their avg) to find how important each feature are to determine the loan_status. (How much correlation are there?)"
   ]
  },
  {
   "cell_type": "code",
   "execution_count": null,
   "metadata": {
    "id": "orOhRVghqskh"
   },
   "outputs": [],
   "source": [
    "from sklearn.ensemble import RandomForestClassifier\n",
    "from sklearn.tree import DecisionTreeClassifier\n",
    "\n",
    "rf_model = RandomForestClassifier(random_state=42)\n",
    "rf_model.fit(X_train, y_train)\n",
    "\n",
    "rt_model = DecisionTreeClassifier(random_state = 42)\n",
    "rt_model.fit(X_train, y_train)\n",
    "\n",
    "# get the feature importance\n",
    "rf_importance = rf_model.feature_importances_\n",
    "rt_importance = rt_model.feature_importances_\n"
   ]
  },
  {
   "cell_type": "code",
   "execution_count": null,
   "metadata": {
    "colab": {
     "base_uri": "https://localhost:8080/",
     "height": 54
    },
    "id": "G9L5CeRpzWWR",
    "outputId": "9d15edae-0ddf-4825-e1bf-51e067ea2d03"
   },
   "outputs": [
    {
     "data": {
      "image/png": "[encoded data removed]",
      "text/plain": [
       "<Figure size 1000x600 with 1 Axes>"
      ]
     },
     "metadata": {},
     "output_type": "display_data"
    }
   ],
   "source": [
    "# visualize feature importances\n",
    "feature_names = X.columns.tolist()\n",
    "importance_rf = pd.Series(rf_importance, index=feature_names)\n",
    "importance_rt = pd.Series(rt_importance, index=feature_names)\n",
    "combined_importance = pd.concat([importance_rf, importance_rt], axis=1, names=['Random Forest', 'Regression Tree'])\n",
    "\n",
    "# sort by importance (average of both models)\n",
    "combined_importance = combined_importance.mean(axis=1).sort_values(ascending=False)\n",
    "\n",
    "# create a bar chart\n",
    "plt.figure(figsize = (10,6))\n",
    "combined_importance.plot(kind = 'bar')\n",
    "plt.title(\"Feature Importance (avg)\")\n",
    "plt.xlabel(\"Features\")\n",
    "plt.ylabel(\"Importance Score\")\n",
    "plt.xticks(rotation= 45, ha = 'right')\n",
    "plt.tight_layout()\n",
    "plt.show()"
   ]
  },
  {
   "cell_type": "markdown",
   "metadata": {
    "id": "cemNxs1J3u_y"
   },
   "source": [
    "I can now select which features to use. And I will choose the first 6 features with the highest correlation."
   ]
  },
  {
   "cell_type": "code",
   "execution_count": null,
   "metadata": {
    "id": "euUYu6_I1Z_r"
   },
   "outputs": [],
   "source": [
    "# features to use\n",
    "features = ['loan_percent_income', 'person_income', 'loan_int_rate',\n",
    "            'person_home_ownership_RENT', 'loan_amnt', 'person_emp_length']"
   ]
  },
  {
   "cell_type": "markdown",
   "metadata": {
    "id": "WkP2nMX448Il"
   },
   "source": [
    "#### Main part - XGBoost & Random Forest"
   ]
  },
  {
   "cell_type": "markdown",
   "metadata": {
    "id": "1wmzZSAY5Y6t"
   },
   "source": [
    "I try to use both and find the one with the highest accuracy later, since XGBoost might overfit and become inaccurate."
   ]
  },
  {
   "cell_type": "code",
   "execution_count": null,
   "metadata": {
    "colab": {
     "base_uri": "https://localhost:8080/",
     "height": 1000
    },
    "collapsed": true,
    "id": "RgXuTZcm2iBX",
    "jupyter": {
     "outputs_hidden": true
    },
    "outputId": "548a6e46-ca8d-4c48-ca78-2a65181d1baa"
   },
   "outputs": [
    {
     "name": "stdout",
     "output_type": "stream",
     "text": [
      "[0]\tvalidation_0-auc:0.87133\n",
      "[1]\tvalidation_0-auc:0.87900\n",
      "[2]\tvalidation_0-auc:0.88177\n",
      "[3]\tvalidation_0-auc:0.88322\n",
      "[4]\tvalidation_0-auc:0.88533\n",
      "[5]\tvalidation_0-auc:0.88706\n",
      "[6]\tvalidation_0-auc:0.88839\n",
      "[7]\tvalidation_0-auc:0.88896\n",
      "[8]\tvalidation_0-auc:0.89197\n",
      "[9]\tvalidation_0-auc:0.89352\n",
      "[10]\tvalidation_0-auc:0.89446\n",
      "[11]\tvalidation_0-auc:0.89572\n",
      "[12]\tvalidation_0-auc:0.89683\n",
      "[13]\tvalidation_0-auc:0.89747\n",
      "[14]\tvalidation_0-auc:0.90019\n",
      "[15]\tvalidation_0-auc:0.90045\n",
      "[16]\tvalidation_0-auc:0.90024\n",
      "[17]\tvalidation_0-auc:0.90314\n",
      "[18]\tvalidation_0-auc:0.90467\n",
      "[19]\tvalidation_0-auc:0.90789\n",
      "[20]\tvalidation_0-auc:0.90790\n",
      "[21]\tvalidation_0-auc:0.90870\n",
      "[22]\tvalidation_0-auc:0.90933\n",
      "[23]\tvalidation_0-auc:0.91108\n",
      "[24]\tvalidation_0-auc:0.91099\n",
      "[25]\tvalidation_0-auc:0.91155\n",
      "[26]\tvalidation_0-auc:0.91185\n",
      "[27]\tvalidation_0-auc:0.91190\n",
      "[28]\tvalidation_0-auc:0.91204\n",
      "[29]\tvalidation_0-auc:0.91259\n",
      "[30]\tvalidation_0-auc:0.91310\n",
      "[31]\tvalidation_0-auc:0.91397\n",
      "[32]\tvalidation_0-auc:0.91451\n",
      "[33]\tvalidation_0-auc:0.91456\n",
      "[34]\tvalidation_0-auc:0.91469\n",
      "[35]\tvalidation_0-auc:0.91511\n",
      "[36]\tvalidation_0-auc:0.91513\n",
      "[37]\tvalidation_0-auc:0.91515\n",
      "[38]\tvalidation_0-auc:0.91504\n",
      "[39]\tvalidation_0-auc:0.91506\n",
      "[40]\tvalidation_0-auc:0.91516\n",
      "[41]\tvalidation_0-auc:0.91527\n",
      "[42]\tvalidation_0-auc:0.91574\n",
      "[43]\tvalidation_0-auc:0.91550\n",
      "[44]\tvalidation_0-auc:0.91544\n",
      "[45]\tvalidation_0-auc:0.91588\n",
      "[46]\tvalidation_0-auc:0.91589\n",
      "[47]\tvalidation_0-auc:0.91603\n",
      "[48]\tvalidation_0-auc:0.91660\n",
      "[49]\tvalidation_0-auc:0.91707\n",
      "[50]\tvalidation_0-auc:0.91732\n",
      "[51]\tvalidation_0-auc:0.91737\n",
      "[52]\tvalidation_0-auc:0.91703\n",
      "[53]\tvalidation_0-auc:0.91672\n",
      "[54]\tvalidation_0-auc:0.91697\n",
      "[55]\tvalidation_0-auc:0.91698\n",
      "[56]\tvalidation_0-auc:0.91678\n",
      "[57]\tvalidation_0-auc:0.91657\n",
      "[58]\tvalidation_0-auc:0.91683\n",
      "[59]\tvalidation_0-auc:0.91728\n",
      "[60]\tvalidation_0-auc:0.91714\n",
      "[61]\tvalidation_0-auc:0.91788\n",
      "[62]\tvalidation_0-auc:0.91810\n",
      "[63]\tvalidation_0-auc:0.91806\n",
      "[64]\tvalidation_0-auc:0.91826\n",
      "[65]\tvalidation_0-auc:0.91792\n",
      "[66]\tvalidation_0-auc:0.91802\n",
      "[67]\tvalidation_0-auc:0.91795\n",
      "[68]\tvalidation_0-auc:0.91799\n",
      "[69]\tvalidation_0-auc:0.91813\n",
      "[70]\tvalidation_0-auc:0.91817\n",
      "[71]\tvalidation_0-auc:0.91799\n",
      "[72]\tvalidation_0-auc:0.91863\n",
      "[73]\tvalidation_0-auc:0.91885\n",
      "[74]\tvalidation_0-auc:0.91868\n",
      "[75]\tvalidation_0-auc:0.91858\n",
      "[76]\tvalidation_0-auc:0.91840\n",
      "[77]\tvalidation_0-auc:0.91822\n",
      "[78]\tvalidation_0-auc:0.91809\n",
      "[79]\tvalidation_0-auc:0.91810\n",
      "[80]\tvalidation_0-auc:0.91801\n",
      "[81]\tvalidation_0-auc:0.91835\n",
      "[82]\tvalidation_0-auc:0.91822\n"
     ]
    },
    {
     "data": {
      "text/html": [
       "<style>#sk-container-id-2 {color: black;background-color: white;}#sk-container-id-2 pre{padding: 0;}#sk-container-id-2 div.sk-toggleable {background-color: white;}#sk-container-id-2 label.sk-toggleable__label {cursor: pointer;display: block;width: 100%;margin-bottom: 0;padding: 0.3em;box-sizing: border-box;text-align: center;}#sk-container-id-2 label.sk-toggleable__label-arrow:before {content: \"▸\";float: left;margin-right: 0.25em;color: #696969;}#sk-container-id-2 label.sk-toggleable__label-arrow:hover:before {color: black;}#sk-container-id-2 div.sk-estimator:hover label.sk-toggleable__label-arrow:before {color: black;}#sk-container-id-2 div.sk-toggleable__content {max-height: 0;max-width: 0;overflow: hidden;text-align: left;background-color: #f0f8ff;}#sk-container-id-2 div.sk-toggleable__content pre {margin: 0.2em;color: black;border-radius: 0.25em;background-color: #f0f8ff;}#sk-container-id-2 input.sk-toggleable__control:checked~div.sk-toggleable__content {max-height: 200px;max-width: 100%;overflow: auto;}#sk-container-id-2 input.sk-toggleable__control:checked~label.sk-toggleable__label-arrow:before {content: \"▾\";}#sk-container-id-2 div.sk-estimator input.sk-toggleable__control:checked~label.sk-toggleable__label {background-color: #d4ebff;}#sk-container-id-2 div.sk-label input.sk-toggleable__control:checked~label.sk-toggleable__label {background-color: #d4ebff;}#sk-container-id-2 input.sk-hidden--visually {border: 0;clip: rect(1px 1px 1px 1px);clip: rect(1px, 1px, 1px, 1px);height: 1px;margin: -1px;overflow: hidden;padding: 0;position: absolute;width: 1px;}#sk-container-id-2 div.sk-estimator {font-family: monospace;background-color: #f0f8ff;border: 1px dotted black;border-radius: 0.25em;box-sizing: border-box;margin-bottom: 0.5em;}#sk-container-id-2 div.sk-estimator:hover {background-color: #d4ebff;}#sk-container-id-2 div.sk-parallel-item::after {content: \"\";width: 100%;border-bottom: 1px solid gray;flex-grow: 1;}#sk-container-id-2 div.sk-label:hover label.sk-toggleable__label {background-color: #d4ebff;}#sk-container-id-2 div.sk-serial::before {content: \"\";position: absolute;border-left: 1px solid gray;box-sizing: border-box;top: 0;bottom: 0;left: 50%;z-index: 0;}#sk-container-id-2 div.sk-serial {display: flex;flex-direction: column;align-items: center;background-color: white;padding-right: 0.2em;padding-left: 0.2em;position: relative;}#sk-container-id-2 div.sk-item {position: relative;z-index: 1;}#sk-container-id-2 div.sk-parallel {display: flex;align-items: stretch;justify-content: center;background-color: white;position: relative;}#sk-container-id-2 div.sk-item::before, #sk-container-id-2 div.sk-parallel-item::before {content: \"\";position: absolute;border-left: 1px solid gray;box-sizing: border-box;top: 0;bottom: 0;left: 50%;z-index: -1;}#sk-container-id-2 div.sk-parallel-item {display: flex;flex-direction: column;z-index: 1;position: relative;background-color: white;}#sk-container-id-2 div.sk-parallel-item:first-child::after {align-self: flex-end;width: 50%;}#sk-container-id-2 div.sk-parallel-item:last-child::after {align-self: flex-start;width: 50%;}#sk-container-id-2 div.sk-parallel-item:only-child::after {width: 0;}#sk-container-id-2 div.sk-dashed-wrapped {border: 1px dashed gray;margin: 0 0.4em 0.5em 0.4em;box-sizing: border-box;padding-bottom: 0.4em;background-color: white;}#sk-container-id-2 div.sk-label label {font-family: monospace;font-weight: bold;display: inline-block;line-height: 1.2em;}#sk-container-id-2 div.sk-label-container {text-align: center;}#sk-container-id-2 div.sk-container {/* jupyter's `normalize.less` sets `[hidden] { display: none; }` but bootstrap.min.css set `[hidden] { display: none !important; }` so we also need the `!important` here to be able to override the default hidden behavior on the sphinx rendered scikit-learn.org. See: https://github.com/scikit-learn/scikit-learn/issues/21755 */display: inline-block !important;position: relative;}#sk-container-id-2 div.sk-text-repr-fallback {display: none;}</style><div id=\"sk-container-id-2\" class=\"sk-top-container\"><div class=\"sk-text-repr-fallback\"><pre>RandomForestClassifier(random_state=42)</pre><b>In a Jupyter environment, please rerun this cell to show the HTML representation or trust the notebook. <br />On GitHub, the HTML representation is unable to render, please try loading this page with nbviewer.org.</b></div><div class=\"sk-container\" hidden><div class=\"sk-item\"><div class=\"sk-estimator sk-toggleable\"><input class=\"sk-toggleable__control sk-hidden--visually\" id=\"sk-estimator-id-2\" type=\"checkbox\" checked><label for=\"sk-estimator-id-2\" class=\"sk-toggleable__label sk-toggleable__label-arrow\">RandomForestClassifier</label><div class=\"sk-toggleable__content\"><pre>RandomForestClassifier(random_state=42)</pre></div></div></div></div></div>"
      ],
      "text/plain": [
       "RandomForestClassifier(random_state=42)"
      ]
     },
     "execution_count": 101,
     "metadata": {},
     "output_type": "execute_result"
    }
   ],
   "source": [
    "# train test split, using only features I want\n",
    "X = clean_data[features]\n",
    "y = clean_data['loan_status']\n",
    "\n",
    "# normal train test split\n",
    "X_train, X_test, y_train, y_test = train_test_split(X, y, test_size=0.2, random_state=42)\n",
    "\n",
    "# tts for valuation data (required for XGBoost, look at text below code chunk)\n",
    "# and we take the valuation data from half of the testing data\n",
    "X_test, X_val, y_test, y_val = train_test_split(X_test, y_test, test_size=0.5, random_state=42)\n",
    "\n",
    "\n",
    "# XGBoost\n",
    "xgb_model = XGBClassifier(eval_metric='auc',  # Set evaluation metric (e.g., AUC)\n",
    "                          early_stopping_rounds=10,  # Early stopping after 10 rounds of no improvement\n",
    "                          random_state=42)\n",
    "\n",
    "# fitting XGBoost, see the eval_set?\n",
    "xgb_model.fit(X_train, y_train, eval_set=[(X_val, y_val)])\n",
    "\n",
    "# Random Forest\n",
    "rf_model = RandomForestClassifier(random_state = 42)\n",
    "rf_model.fit(X_train, y_train)"
   ]
  },
  {
   "cell_type": "markdown",
   "metadata": {
    "id": "LPFT1SjX-LLZ"
   },
   "source": [
    "Apparently, XGBoost requires valuation data. So how it works is that the model will keep learning until suddenly the validation score no longer increases, then it stops. (No wonder it's called Extreme Gradient Boosting)"
   ]
  },
  {
   "cell_type": "markdown",
   "metadata": {
    "id": "6Lm_heJk_8Mr"
   },
   "source": [
    "### Evaluate accuracy of the models"
   ]
  },
  {
   "cell_type": "markdown",
   "metadata": {
    "id": "g2xNlYPNDarI"
   },
   "source": [
    "#### Accuracy of XGBoost Model:"
   ]
  },
  {
   "cell_type": "code",
   "execution_count": null,
   "metadata": {
    "colab": {
     "base_uri": "https://localhost:8080/"
    },
    "id": "vxys2-O3A33b",
    "outputId": "f2c050e0-c106-40b9-b91b-6fc90235fd54"
   },
   "outputs": [
    {
     "name": "stdout",
     "output_type": "stream",
     "text": [
      "Final Validation AUC: 0.9182457789806612\n"
     ]
    }
   ],
   "source": [
    "xgb_eval_results = xgb_model.evals_result_\n",
    "final_validation_auc = xgb_eval_results['validation_0']['auc'][-1]\n",
    "print(\"Final Validation AUC:\", final_validation_auc)"
   ]
  },
  {
   "cell_type": "markdown",
   "metadata": {
    "id": "dgNMmU7VA4_Y"
   },
   "source": [
    "#### Accuracy of Random Forest Model:"
   ]
  },
  {
   "cell_type": "code",
   "execution_count": null,
   "metadata": {
    "id": "kgvvtYEU45c9"
   },
   "outputs": [],
   "source": [
    "from sklearn.metrics import accuracy_score, precision_score, recall_score, f1_score"
   ]
  },
  {
   "cell_type": "code",
   "execution_count": null,
   "metadata": {
    "colab": {
     "base_uri": "https://localhost:8080/"
    },
    "id": "ZhiFNl9aAuer",
    "outputId": "499b1cb0-fdd5-48e9-ce6d-8a66c4fc81ac"
   },
   "outputs": [
    {
     "name": "stdout",
     "output_type": "stream",
     "text": [
      "Random Forest Accuracy: 0.905440414507772\n",
      "Random Forest Precision: 0.8950892857142857\n",
      "Random Forest Recall: 0.6207430340557275\n",
      "Random Forest F1-score: 0.73308957952468\n"
     ]
    }
   ],
   "source": [
    "# Accuracy\n",
    "rf_accuracy = accuracy_score(y_test, rf_model.predict(X_test))\n",
    "\n",
    "# Precision\n",
    "rf_precision = precision_score(y_test, rf_model.predict(X_test))\n",
    "\n",
    "# Recall\n",
    "rf_recall = recall_score(y_test, rf_model.predict(X_test))\n",
    "\n",
    "# F1-score\n",
    "rf_f1 = f1_score(y_test, rf_model.predict(X_test))\n",
    "\n",
    "# Print the evaluation metrics for Random Forest\n",
    "print(\"Random Forest Accuracy:\", rf_accuracy)\n",
    "print(\"Random Forest Precision:\", rf_precision)\n",
    "print(\"Random Forest Recall:\", rf_recall)\n",
    "print(\"Random Forest F1-score:\", rf_f1)"
   ]
  },
  {
   "cell_type": "markdown",
   "metadata": {
    "id": "-xfWMIMRBlD7"
   },
   "source": [
    "**Explanation of each metric valuation:**\n",
    "\n",
    "Accuracy - How many correct answers (in percentage)\n",
    "\n",
    "Precision - True Positives / Total Positives\n",
    "\n",
    "Recall - True Positives / Actual Positive\n",
    "\n",
    "F1-score: This metric combines precision and recall into a single score, providing a balance between the two. It's calculated as the harmonic mean of precision and recall. (I dont understand this at all lmao)\n"
   ]
  },
  {
   "cell_type": "markdown",
   "metadata": {
    "id": "PP7YFtpyD_J4"
   },
   "source": [
    "### Conclusion"
   ]
  },
  {
   "cell_type": "markdown",
   "metadata": {
    "id": "qQ-MU4XzH_dI"
   },
   "source": [
    "#### Final evaluation & what can be done as improvement"
   ]
  },
  {
   "cell_type": "markdown",
   "metadata": {
    "id": "yfK6FDVcEZC7"
   },
   "source": [
    "**These results are very good:** \\\n",
    "Random Forest Accuracy: 0.905440414507772 \\\n",
    "Random Forest Precision: 0.8950892857142857"
   ]
  },
  {
   "cell_type": "markdown",
   "metadata": {
    "id": "6Jd7K1EBEy8I"
   },
   "source": [
    "\n",
    "**But this one is concerning:** \\\n",
    "Random Forest Recall: 0.6207430340557275"
   ]
  },
  {
   "cell_type": "markdown",
   "metadata": {
    "id": "dTKkYSyXGZCL"
   },
   "source": [
    "**According to AI, this is what it means:** \\\n",
    "My model is good at identifying true approved loans it predicts (precision), but it might be missing a substantial portion of actual approved loans (low recall)."
   ]
  },
  {
   "cell_type": "markdown",
   "metadata": {
    "id": "zdoUnpKBwJXR"
   },
   "source": [
    "**What is also means:** \\\n",
    "A model with low recall and high precision is more cautious. \\\n",
    "In case of our model, it has a very low risk of selecting people who might default, and only selects borrowers that are very likely to not default the loan. \\\n",
    "\\\n",
    "However, this might result in missed oppportunities for the bank and hence reducing revenue. But it is safer and has less risk, which is more suitable when (interest rates are low and a lot more people are more likely to take loans) <-- not sure.  "
   ]
  },
  {
   "cell_type": "markdown",
   "metadata": {
    "id": "JY97qDzYF_WK"
   },
   "source": [
    "**What can I do to try and improve this?** \\\n",
    "Try to avoid too much bias when selecting features to train the model."
   ]
  },
  {
   "cell_type": "markdown",
   "metadata": {
    "id": "sQDwTZxbIKHU"
   },
   "source": [
    "#### What I have learnt"
   ]
  },
  {
   "cell_type": "markdown",
   "metadata": {
    "id": "rAetbJ5EIw0S"
   },
   "source": [
    "This is my first time using ML algorithms other than Linear, Logistic Regression and K-means Clustering. \\\n",
    "I was forced to learn about the concepts behind the algorithms (Decision Tree, Random Forests, XGBoost) immediately and applying them made it a lot easier to understand. \\\n",
    "Still, I have yet to understand the maths behind these models, but that will come later."
   ]
  },
  {
   "cell_type": "markdown",
   "metadata": {
    "id": "pm0CS3ulINkZ"
   },
   "source": [
    "Also, thank god I had ChatGPT and Gemini. Else I would have died in the process of making this (seriously)."
   ]
  },
  {
   "cell_type": "markdown",
   "metadata": {
    "id": "TaoBi5vSJKYp"
   },
   "source": [
    "I have learnt a lot during the process and I am glad I chose this topic.  \\\n",
    "Finally, I got to connect eveything about ML which had wrecked my brain since Year 1.  Yay!"
   ]
  }
 ],
 "metadata": {
  "colab": {
   "collapsed_sections": [
    "g2xNlYPNDarI",
    "dgNMmU7VA4_Y",
    "qQ-MU4XzH_dI",
    "sQDwTZxbIKHU"
   ],
   "provenance": [],
   "toc_visible": true
  },
  "kernelspec": {
   "display_name": "Python 3 (ipykernel)",
   "language": "python",
   "name": "python3"
  },
  "language_info": {
   "codemirror_mode": {
    "name": "ipython",
    "version": 3
   },
   "file_extension": ".py",
   "mimetype": "text/x-python",
   "name": "python",
   "nbconvert_exporter": "python",
   "pygments_lexer": "ipython3",
   "version": "3.12.4"
  }
 },
 "nbformat": 4,
 "nbformat_minor": 4
}
